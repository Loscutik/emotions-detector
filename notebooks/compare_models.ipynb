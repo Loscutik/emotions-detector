{
 "cells": [
  {
   "cell_type": "markdown",
   "metadata": {},
   "source": [
    "# Import"
   ]
  },
  {
   "cell_type": "code",
   "execution_count": 1,
   "metadata": {},
   "outputs": [],
   "source": [
    "import sys\n",
    "from pathlib import Path\n",
    "\n",
    "##os.getcwd()\n",
    "if \"../scripts/\" not in sys.path:  # to prevent multyadding  \n",
    "    sys.path.append(\"../scripts/\") \n",
    "# types\n",
    "import pickle\n",
    "import time\n",
    "\n",
    "# work with data\n",
    "import numpy as np\n",
    "import pandas as pd\n",
    "from sklearn.utils import resample\n",
    "import tensorflow as tf\n",
    "\n",
    "# visualization\n",
    "import seaborn as sns\n",
    "import matplotlib.pyplot as plt\n",
    "from PIL import Image\n",
    "import cv2\n",
    "\n",
    "from data_handle import data_dir, read_configuration, normalize_images\n",
    "from data_handle import img_prepare, predict_img_tflite, predict_img_tf, evaluate_tflite_model\n",
    "from helpers import print_imgs"
   ]
  },
  {
   "cell_type": "markdown",
   "metadata": {},
   "source": [
    "# Load data"
   ]
  },
  {
   "cell_type": "code",
   "execution_count": 7,
   "metadata": {},
   "outputs": [],
   "source": [
    "CONFIG, PATHS, EMOTIONS = read_configuration(data_dir / \"config.yaml\")\n",
    "# model_65_file = './checkpoints/model_MobNetLike/1v1-noregdepwisw_dropout0.2/cp_model-E0181--val_acc0.6573--val_loss1.1014.keras'"
   ]
  },
  {
   "cell_type": "markdown",
   "metadata": {},
   "source": [
    "## TF model"
   ]
  },
  {
   "cell_type": "code",
   "execution_count": 10,
   "metadata": {},
   "outputs": [],
   "source": [
    "model = tf.keras.models.load_model(PATHS['model_path'])"
   ]
  },
  {
   "cell_type": "code",
   "execution_count": 11,
   "metadata": {},
   "outputs": [
    {
     "data": {
      "text/plain": [
       "\"img_shape=(48, 48), img_dtype='float32'\""
      ]
     },
     "execution_count": 11,
     "metadata": {},
     "output_type": "execute_result"
    }
   ],
   "source": [
    "img_shape = model.input_shape[1:3]\n",
    "img_dtype = model.input_dtype\n",
    "f'{img_shape=}, {img_dtype=}'"
   ]
  },
  {
   "cell_type": "markdown",
   "metadata": {},
   "source": [
    "## Quantized model"
   ]
  },
  {
   "cell_type": "code",
   "execution_count": null,
   "metadata": {},
   "outputs": [
    {
     "name": "stderr",
     "output_type": "stream",
     "text": [
      "c:\\Users\\alena\\AI\\emotions-detector\\.venv\\Lib\\site-packages\\tensorflow\\lite\\python\\interpreter.py:457: UserWarning:     Warning: tf.lite.Interpreter is deprecated and is scheduled for deletion in\n",
      "    TF 2.20. Please use the LiteRT interpreter from the ai_edge_litert package.\n",
      "    See the [migration guide](https://ai.google.dev/edge/litert/migration)\n",
      "    for details.\n",
      "    \n",
      "  warnings.warn(_INTERPRETER_DELETION_WARNING)\n"
     ]
    }
   ],
   "source": [
    "interpreter_lite_model = tf.lite.Interpreter(model_path=PATHS['tflite_model_path'].as_posix())"
   ]
  },
  {
   "cell_type": "code",
   "execution_count": 7,
   "metadata": {},
   "outputs": [
    {
     "data": {
      "text/plain": [
       "{'name': 'serving_default_input_layer_2:0',\n",
       " 'index': 0,\n",
       " 'shape': array([ 1, 48, 48,  1], dtype=int32),\n",
       " 'shape_signature': array([-1, 48, 48,  1], dtype=int32),\n",
       " 'dtype': numpy.float32,\n",
       " 'quantization': (0.0, 0),\n",
       " 'quantization_parameters': {'scales': array([], dtype=float32),\n",
       "  'zero_points': array([], dtype=int32),\n",
       "  'quantized_dimension': 0},\n",
       " 'sparsity_parameters': {}}"
      ]
     },
     "execution_count": 7,
     "metadata": {},
     "output_type": "execute_result"
    }
   ],
   "source": [
    "interpreter_input_details = interpreter_lite_model.get_input_details()[0]\n",
    "interpreter_input_details"
   ]
  },
  {
   "cell_type": "code",
   "execution_count": 8,
   "metadata": {},
   "outputs": [
    {
     "data": {
      "text/plain": [
       "{'name': 'StatefulPartitionedCall_1:0',\n",
       " 'index': 193,\n",
       " 'shape': array([1, 7], dtype=int32),\n",
       " 'shape_signature': array([-1,  7], dtype=int32),\n",
       " 'dtype': numpy.float32,\n",
       " 'quantization': (0.0, 0),\n",
       " 'quantization_parameters': {'scales': array([], dtype=float32),\n",
       "  'zero_points': array([], dtype=int32),\n",
       "  'quantized_dimension': 0},\n",
       " 'sparsity_parameters': {}}"
      ]
     },
     "execution_count": 8,
     "metadata": {},
     "output_type": "execute_result"
    }
   ],
   "source": [
    "interpreter_output_details = interpreter_lite_model.get_output_details()[0]\n",
    "interpreter_output_details"
   ]
  },
  {
   "cell_type": "markdown",
   "metadata": {},
   "source": [
    "## Test set"
   ]
  },
  {
   "cell_type": "code",
   "execution_count": null,
   "metadata": {},
   "outputs": [],
   "source": [
    "X_test, y_test_onehot = np.load(PATHS['res_dir'] / 'X_test.npy'), np.load(PATHS['res_dir'] / 'y_test_onehot.npy')\n",
    "X_test, y_test_onehot = resample(X_test, y_test_onehot, replace=False, n_samples=1000, stratify=y_test_onehot)"
   ]
  },
  {
   "cell_type": "markdown",
   "metadata": {},
   "source": [
    "# Tests"
   ]
  },
  {
   "cell_type": "markdown",
   "metadata": {},
   "source": [
    "## Image preparation\n",
    "Test different functions to resize an image, to expand dimentions and convert it to different data type.  \n"
   ]
  },
  {
   "cell_type": "markdown",
   "metadata": {},
   "source": [
    "### Function to test  \n",
    "Structure of the functions names:  \n",
    "`img_prepare_<resize_method>[_<expand_method>]`, where\n",
    "- <resize_method>==cv2 => use cv2.resize\n",
    "- <resize_method>==tf => use tf.image.resize\n",
    "- <expand_method> is omitted => use np.newaxis to expand\n",
    "- <expand_method>==ex => use np.expand_dims"
   ]
  },
  {
   "cell_type": "code",
   "execution_count": 10,
   "metadata": {},
   "outputs": [],
   "source": [
    "def img_prepare_cv2(img:np.ndarray, flt_type:np.dtype|None=None):\n",
    "    img = normalize_images(img)\n",
    "    img = cv2.resize(img, img_shape)[np.newaxis,:,:,np.newaxis]\n",
    "    if flt_type is not None: # convert after resize, because cv2.resize doesn't support float16\n",
    "        img = img.astype(flt_type)\n",
    "    return img"
   ]
  },
  {
   "cell_type": "code",
   "execution_count": 11,
   "metadata": {},
   "outputs": [],
   "source": [
    "def img_prepare_cv2_ex(img:np.ndarray, flt_type:np.dtype|None=None):\n",
    "    img = normalize_images(img)\n",
    "    img = cv2.resize(img, img_shape)\n",
    "    if flt_type is not None: # convert after resize, because cv2.resize doesn't support float16\n",
    "        img = img.astype(flt_type)\n",
    "    img = np.expand_dims(img, axis=-1)  # add channel dimension\n",
    "    img = np.expand_dims(img, axis=0)  # add batch dimension\n",
    "    return img"
   ]
  },
  {
   "cell_type": "code",
   "execution_count": 12,
   "metadata": {},
   "outputs": [],
   "source": [
    "def img_prepare_tf(img:np.ndarray, flt_type:np.dtype|None=None):\n",
    "    img = normalize_images(img)\n",
    "    if flt_type is not None:\n",
    "        img = img.astype(flt_type)\n",
    "    img = tf.image.resize(img[np.newaxis,:,:,np.newaxis], img_shape)  # resize to (1, H, W, C)\n",
    "    return img"
   ]
  },
  {
   "cell_type": "code",
   "execution_count": 13,
   "metadata": {},
   "outputs": [],
   "source": [
    "def img_prepare_tf_ex(img:np.ndarray, flt_type:np.dtype|None=None):\n",
    "    img = normalize_images(img)\n",
    "    if flt_type is not None:\n",
    "        img = img.astype(flt_type)\n",
    "    img = tf.expand_dims(img, axis=-1)  # (H, W, C)\n",
    "    img = tf.expand_dims(img, axis=0)  # (1, H, W, C)\n",
    "    img = tf.image.resize(img, img_shape)  \n",
    "    return img"
   ]
  },
  {
   "cell_type": "markdown",
   "metadata": {},
   "source": [
    "### Collect images"
   ]
  },
  {
   "cell_type": "code",
   "execution_count": 14,
   "metadata": {},
   "outputs": [],
   "source": [
    "#load the pre-trained Haar Cascade classifier\n",
    "face_classifier = cv2.CascadeClassifier(\n",
    "    cv2.data.haarcascades + \"haarcascade_frontalface_default.xml\"\n",
    ")\n",
    "\n",
    "def get_face(vid):\n",
    "    gray_image = cv2.cvtColor(vid, cv2.COLOR_BGR2GRAY)\n",
    "    faces = face_classifier.detectMultiScale(gray_image, 1.1, 7, minSize=(40, 40))\n",
    "    if len(faces) == 0:\n",
    "        return None, (0,0,0,0)\n",
    "    \n",
    "    x, y, w, h = faces[0]\n",
    "    return gray_image[y:y + h, x:x + w], (x, y, w, h)"
   ]
  },
  {
   "cell_type": "code",
   "execution_count": 15,
   "metadata": {},
   "outputs": [],
   "source": [
    "def collect_faces(num=12, max_error_faces_recognition=120):\n",
    "    video_capture = cv2.VideoCapture(0)\n",
    "    not_recognized=0\n",
    "    frequency = int(video_capture.get(cv2.CAP_PROP_FPS))//2\n",
    "    frame_count = frequency\n",
    "    faces = []\n",
    "    faces_counter = 0\n",
    "    while faces_counter < num:\n",
    "        result, video_frame = video_capture.read()  # read frames from the video\n",
    "        if result is False:\n",
    "            break  # terminate the loop if the frame is not read successfully\n",
    "  \n",
    "        face, _ = get_face(video_frame)  \n",
    "        if face is not None:\n",
    "            \n",
    "            if frame_count==frequency:\n",
    "                frame_count=0\n",
    "                faces.append(face)\n",
    "                faces_counter += 1\n",
    "            \n",
    "            frame_count += 1\n",
    "        else:\n",
    "            not_recognized += 1\n",
    "            if not_recognized>max_error_faces_recognition:\n",
    "                break\n",
    "  \n",
    "        # Display the resulting frame \n",
    "        cv2.imshow('video', video_frame) \n",
    "    \n",
    "        # creating 'q' as the quit  \n",
    "        # button for the video \n",
    "        if cv2.waitKey(1) & 0xFF == ord('q'): \n",
    "            break\n",
    "    video_capture.release()\n",
    "    cv2.destroyAllWindows()\n",
    "    return faces, not_recognized\n",
    "\n",
    "def test_img_prepare(imgs, func, *args, **kwargs):\n",
    "    timings = np.zeros(len(imgs), dtype=np.float32)\n",
    "    for i, img in enumerate(imgs):\n",
    "        start = time.perf_counter()\n",
    "        tmp = func(img, *args, **kwargs)\n",
    "        end = time.perf_counter()\n",
    "        timings[i] = end - start\n",
    "    return timings\n"
   ]
  },
  {
   "cell_type": "code",
   "execution_count": null,
   "metadata": {},
   "outputs": [],
   "source": [
    "faces_test_file_path = PATHS['res_dir'] / 'faces_test.npy'\n",
    "if faces_test_file_path.exists():\n",
    "    with open(faces_test_file_path, 'rb') as f:\n",
    "        faces = pickle.load(f)\n",
    "else:\n",
    "    faces, not_recognized = collect_faces()\n",
    "    print(f\"Collected {len(faces)} faces, not recognized: {not_recognized}\")\n",
    "    with open(faces_test_file_path, 'wb') as f:\n",
    "        pickle.dump(faces, f)\n",
    "    print(f'Images loaded from {faces_test_file_path.resolve()}')"
   ]
  },
  {
   "cell_type": "markdown",
   "metadata": {},
   "source": [
    "### Testing"
   ]
  },
  {
   "cell_type": "code",
   "execution_count": 42,
   "metadata": {},
   "outputs": [
    {
     "name": "stdout",
     "output_type": "stream",
     "text": [
      "Testing img_prepare_cv2 with type None\n",
      "Testing img_prepare_cv2 with type <class 'numpy.float32'>\n",
      "Testing img_prepare_cv2 with type <class 'numpy.float16'>\n",
      "Testing img_prepare_cv2_ex with type None\n",
      "Testing img_prepare_cv2_ex with type <class 'numpy.float32'>\n",
      "Testing img_prepare_cv2_ex with type <class 'numpy.float16'>\n",
      "Testing img_prepare_tf with type None\n",
      "Testing img_prepare_tf with type <class 'numpy.float32'>\n",
      "Testing img_prepare_tf with type <class 'numpy.float16'>\n",
      "Testing img_prepare_tf_ex with type None\n",
      "Testing img_prepare_tf_ex with type <class 'numpy.float32'>\n",
      "Testing img_prepare_tf_ex with type <class 'numpy.float16'>\n"
     ]
    }
   ],
   "source": [
    "funcs_to_test = [img_prepare_cv2, img_prepare_cv2_ex, img_prepare_tf, img_prepare_tf_ex]\n",
    "types = [None, np.float32, np.float16]\n",
    "timings = {}\n",
    "for prep_func in funcs_to_test:\n",
    "    for tp in types:\n",
    "        print(f\"Testing {prep_func.__name__} with type {tp}\")\n",
    "        timing = test_img_prepare(faces, prep_func, tp)\n",
    "        timings_key = f\"{prep_func.__name__}_{tp.__name__ if tp else 'None(float64)'}\"\n",
    "        timings[timings_key] = timing\n",
    "df = pd.DataFrame(timings)\n"
   ]
  },
  {
   "cell_type": "markdown",
   "metadata": {},
   "source": [
    "Print the tests results:"
   ]
  },
  {
   "cell_type": "code",
   "execution_count": 43,
   "metadata": {},
   "outputs": [
    {
     "data": {
      "text/html": [
       "<div>\n",
       "<style scoped>\n",
       "    .dataframe tbody tr th:only-of-type {\n",
       "        vertical-align: middle;\n",
       "    }\n",
       "\n",
       "    .dataframe tbody tr th {\n",
       "        vertical-align: top;\n",
       "    }\n",
       "\n",
       "    .dataframe thead th {\n",
       "        text-align: right;\n",
       "    }\n",
       "</style>\n",
       "<table border=\"1\" class=\"dataframe\">\n",
       "  <thead>\n",
       "    <tr style=\"text-align: right;\">\n",
       "      <th></th>\n",
       "      <th>cv2_None(float64)</th>\n",
       "      <th>cv2_float32</th>\n",
       "      <th>cv2_float16</th>\n",
       "      <th>cv2_ex_None(float64)</th>\n",
       "      <th>cv2_ex_float32</th>\n",
       "      <th>cv2_ex_float16</th>\n",
       "      <th>tf_None(float64)</th>\n",
       "      <th>tf_float32</th>\n",
       "      <th>tf_float16</th>\n",
       "      <th>tf_ex_None(float64)</th>\n",
       "      <th>tf_ex_float32</th>\n",
       "      <th>tf_ex_float16</th>\n",
       "    </tr>\n",
       "  </thead>\n",
       "  <tbody>\n",
       "    <tr>\n",
       "      <th>0</th>\n",
       "      <td>0.002311</td>\n",
       "      <td>0.000293</td>\n",
       "      <td>0.000689</td>\n",
       "      <td>0.000256</td>\n",
       "      <td>0.000199</td>\n",
       "      <td>0.000195</td>\n",
       "      <td>0.129689</td>\n",
       "      <td>0.056114</td>\n",
       "      <td>0.001724</td>\n",
       "      <td>0.003782</td>\n",
       "      <td>0.001184</td>\n",
       "      <td>0.029144</td>\n",
       "    </tr>\n",
       "    <tr>\n",
       "      <th>1</th>\n",
       "      <td>0.000469</td>\n",
       "      <td>0.000178</td>\n",
       "      <td>0.000665</td>\n",
       "      <td>0.000205</td>\n",
       "      <td>0.000573</td>\n",
       "      <td>0.000571</td>\n",
       "      <td>0.002920</td>\n",
       "      <td>0.001039</td>\n",
       "      <td>0.002167</td>\n",
       "      <td>0.003142</td>\n",
       "      <td>0.001032</td>\n",
       "      <td>0.001432</td>\n",
       "    </tr>\n",
       "    <tr>\n",
       "      <th>2</th>\n",
       "      <td>0.000296</td>\n",
       "      <td>0.000155</td>\n",
       "      <td>0.000340</td>\n",
       "      <td>0.000152</td>\n",
       "      <td>0.000234</td>\n",
       "      <td>0.000289</td>\n",
       "      <td>0.001596</td>\n",
       "      <td>0.000766</td>\n",
       "      <td>0.001446</td>\n",
       "      <td>0.001867</td>\n",
       "      <td>0.002689</td>\n",
       "      <td>0.001474</td>\n",
       "    </tr>\n",
       "    <tr>\n",
       "      <th>3</th>\n",
       "      <td>0.000201</td>\n",
       "      <td>0.000192</td>\n",
       "      <td>0.000208</td>\n",
       "      <td>0.000161</td>\n",
       "      <td>0.000198</td>\n",
       "      <td>0.000216</td>\n",
       "      <td>0.002170</td>\n",
       "      <td>0.000997</td>\n",
       "      <td>0.002065</td>\n",
       "      <td>0.001277</td>\n",
       "      <td>0.001825</td>\n",
       "      <td>0.001478</td>\n",
       "    </tr>\n",
       "    <tr>\n",
       "      <th>4</th>\n",
       "      <td>0.000170</td>\n",
       "      <td>0.000244</td>\n",
       "      <td>0.000168</td>\n",
       "      <td>0.000140</td>\n",
       "      <td>0.000196</td>\n",
       "      <td>0.000463</td>\n",
       "      <td>0.001213</td>\n",
       "      <td>0.001138</td>\n",
       "      <td>0.007765</td>\n",
       "      <td>0.001122</td>\n",
       "      <td>0.001673</td>\n",
       "      <td>0.001711</td>\n",
       "    </tr>\n",
       "    <tr>\n",
       "      <th>5</th>\n",
       "      <td>0.000597</td>\n",
       "      <td>0.000221</td>\n",
       "      <td>0.000251</td>\n",
       "      <td>0.000167</td>\n",
       "      <td>0.000307</td>\n",
       "      <td>0.000354</td>\n",
       "      <td>0.001646</td>\n",
       "      <td>0.001072</td>\n",
       "      <td>0.001674</td>\n",
       "      <td>0.001053</td>\n",
       "      <td>0.001216</td>\n",
       "      <td>0.001694</td>\n",
       "    </tr>\n",
       "    <tr>\n",
       "      <th>6</th>\n",
       "      <td>0.000247</td>\n",
       "      <td>0.000157</td>\n",
       "      <td>0.000206</td>\n",
       "      <td>0.000116</td>\n",
       "      <td>0.000259</td>\n",
       "      <td>0.000424</td>\n",
       "      <td>0.001067</td>\n",
       "      <td>0.000875</td>\n",
       "      <td>0.001394</td>\n",
       "      <td>0.000966</td>\n",
       "      <td>0.001128</td>\n",
       "      <td>0.004387</td>\n",
       "    </tr>\n",
       "    <tr>\n",
       "      <th>7</th>\n",
       "      <td>0.000483</td>\n",
       "      <td>0.000146</td>\n",
       "      <td>0.000148</td>\n",
       "      <td>0.000111</td>\n",
       "      <td>0.000178</td>\n",
       "      <td>0.000227</td>\n",
       "      <td>0.001052</td>\n",
       "      <td>0.000832</td>\n",
       "      <td>0.003252</td>\n",
       "      <td>0.001173</td>\n",
       "      <td>0.000959</td>\n",
       "      <td>0.001725</td>\n",
       "    </tr>\n",
       "    <tr>\n",
       "      <th>8</th>\n",
       "      <td>0.001211</td>\n",
       "      <td>0.000146</td>\n",
       "      <td>0.000163</td>\n",
       "      <td>0.000123</td>\n",
       "      <td>0.000136</td>\n",
       "      <td>0.000209</td>\n",
       "      <td>0.002820</td>\n",
       "      <td>0.000778</td>\n",
       "      <td>0.001186</td>\n",
       "      <td>0.001082</td>\n",
       "      <td>0.001022</td>\n",
       "      <td>0.001215</td>\n",
       "    </tr>\n",
       "    <tr>\n",
       "      <th>9</th>\n",
       "      <td>0.000194</td>\n",
       "      <td>0.000113</td>\n",
       "      <td>0.000116</td>\n",
       "      <td>0.000121</td>\n",
       "      <td>0.000139</td>\n",
       "      <td>0.000246</td>\n",
       "      <td>0.000967</td>\n",
       "      <td>0.003051</td>\n",
       "      <td>0.006830</td>\n",
       "      <td>0.000998</td>\n",
       "      <td>0.000968</td>\n",
       "      <td>0.001164</td>\n",
       "    </tr>\n",
       "    <tr>\n",
       "      <th>10</th>\n",
       "      <td>0.000879</td>\n",
       "      <td>0.000123</td>\n",
       "      <td>0.000137</td>\n",
       "      <td>0.000136</td>\n",
       "      <td>0.000122</td>\n",
       "      <td>0.000321</td>\n",
       "      <td>0.000820</td>\n",
       "      <td>0.002104</td>\n",
       "      <td>0.002314</td>\n",
       "      <td>0.000971</td>\n",
       "      <td>0.000866</td>\n",
       "      <td>0.001793</td>\n",
       "    </tr>\n",
       "    <tr>\n",
       "      <th>11</th>\n",
       "      <td>0.000193</td>\n",
       "      <td>0.000140</td>\n",
       "      <td>0.000164</td>\n",
       "      <td>0.000123</td>\n",
       "      <td>0.000124</td>\n",
       "      <td>0.000284</td>\n",
       "      <td>0.002721</td>\n",
       "      <td>0.019491</td>\n",
       "      <td>0.054012</td>\n",
       "      <td>0.000846</td>\n",
       "      <td>0.001045</td>\n",
       "      <td>0.001589</td>\n",
       "    </tr>\n",
       "  </tbody>\n",
       "</table>\n",
       "</div>"
      ],
      "text/plain": [
       "    cv2_None(float64)  cv2_float32  cv2_float16  cv2_ex_None(float64)  \\\n",
       "0            0.002311     0.000293     0.000689              0.000256   \n",
       "1            0.000469     0.000178     0.000665              0.000205   \n",
       "2            0.000296     0.000155     0.000340              0.000152   \n",
       "3            0.000201     0.000192     0.000208              0.000161   \n",
       "4            0.000170     0.000244     0.000168              0.000140   \n",
       "5            0.000597     0.000221     0.000251              0.000167   \n",
       "6            0.000247     0.000157     0.000206              0.000116   \n",
       "7            0.000483     0.000146     0.000148              0.000111   \n",
       "8            0.001211     0.000146     0.000163              0.000123   \n",
       "9            0.000194     0.000113     0.000116              0.000121   \n",
       "10           0.000879     0.000123     0.000137              0.000136   \n",
       "11           0.000193     0.000140     0.000164              0.000123   \n",
       "\n",
       "    cv2_ex_float32  cv2_ex_float16  tf_None(float64)  tf_float32  tf_float16  \\\n",
       "0         0.000199        0.000195          0.129689    0.056114    0.001724   \n",
       "1         0.000573        0.000571          0.002920    0.001039    0.002167   \n",
       "2         0.000234        0.000289          0.001596    0.000766    0.001446   \n",
       "3         0.000198        0.000216          0.002170    0.000997    0.002065   \n",
       "4         0.000196        0.000463          0.001213    0.001138    0.007765   \n",
       "5         0.000307        0.000354          0.001646    0.001072    0.001674   \n",
       "6         0.000259        0.000424          0.001067    0.000875    0.001394   \n",
       "7         0.000178        0.000227          0.001052    0.000832    0.003252   \n",
       "8         0.000136        0.000209          0.002820    0.000778    0.001186   \n",
       "9         0.000139        0.000246          0.000967    0.003051    0.006830   \n",
       "10        0.000122        0.000321          0.000820    0.002104    0.002314   \n",
       "11        0.000124        0.000284          0.002721    0.019491    0.054012   \n",
       "\n",
       "    tf_ex_None(float64)  tf_ex_float32  tf_ex_float16  \n",
       "0              0.003782       0.001184       0.029144  \n",
       "1              0.003142       0.001032       0.001432  \n",
       "2              0.001867       0.002689       0.001474  \n",
       "3              0.001277       0.001825       0.001478  \n",
       "4              0.001122       0.001673       0.001711  \n",
       "5              0.001053       0.001216       0.001694  \n",
       "6              0.000966       0.001128       0.004387  \n",
       "7              0.001173       0.000959       0.001725  \n",
       "8              0.001082       0.001022       0.001215  \n",
       "9              0.000998       0.000968       0.001164  \n",
       "10             0.000971       0.000866       0.001793  \n",
       "11             0.000846       0.001045       0.001589  "
      ]
     },
     "execution_count": 43,
     "metadata": {},
     "output_type": "execute_result"
    }
   ],
   "source": [
    "df.rename(columns={col: col.replace(\"img_prepare_\", \"\") for col in df.columns}, inplace=True)\n",
    "df"
   ]
  },
  {
   "cell_type": "code",
   "execution_count": 44,
   "metadata": {},
   "outputs": [
    {
     "data": {
      "text/html": [
       "<div>\n",
       "<style scoped>\n",
       "    .dataframe tbody tr th:only-of-type {\n",
       "        vertical-align: middle;\n",
       "    }\n",
       "\n",
       "    .dataframe tbody tr th {\n",
       "        vertical-align: top;\n",
       "    }\n",
       "\n",
       "    .dataframe thead th {\n",
       "        text-align: right;\n",
       "    }\n",
       "</style>\n",
       "<table border=\"1\" class=\"dataframe\">\n",
       "  <thead>\n",
       "    <tr style=\"text-align: right;\">\n",
       "      <th></th>\n",
       "      <th>cv2_ex_None(float64)</th>\n",
       "      <th>cv2_float32</th>\n",
       "      <th>cv2_ex_float32</th>\n",
       "      <th>cv2_float16</th>\n",
       "      <th>cv2_ex_float16</th>\n",
       "      <th>cv2_None(float64)</th>\n",
       "      <th>tf_ex_float32</th>\n",
       "      <th>tf_ex_None(float64)</th>\n",
       "      <th>tf_ex_float16</th>\n",
       "      <th>tf_float16</th>\n",
       "      <th>tf_float32</th>\n",
       "      <th>tf_None(float64)</th>\n",
       "    </tr>\n",
       "  </thead>\n",
       "  <tbody>\n",
       "    <tr>\n",
       "      <th>mean</th>\n",
       "      <td>0.000151</td>\n",
       "      <td>0.000176</td>\n",
       "      <td>0.000222</td>\n",
       "      <td>0.000271</td>\n",
       "      <td>0.000317</td>\n",
       "      <td>0.000604</td>\n",
       "      <td>0.0013</td>\n",
       "      <td>0.001523</td>\n",
       "      <td>0.004067</td>\n",
       "      <td>0.007152</td>\n",
       "      <td>0.007355</td>\n",
       "      <td>0.01239</td>\n",
       "    </tr>\n",
       "  </tbody>\n",
       "</table>\n",
       "</div>"
      ],
      "text/plain": [
       "      cv2_ex_None(float64)  cv2_float32  cv2_ex_float32  cv2_float16  \\\n",
       "mean              0.000151     0.000176        0.000222     0.000271   \n",
       "\n",
       "      cv2_ex_float16  cv2_None(float64)  tf_ex_float32  tf_ex_None(float64)  \\\n",
       "mean        0.000317           0.000604         0.0013             0.001523   \n",
       "\n",
       "      tf_ex_float16  tf_float16  tf_float32  tf_None(float64)  \n",
       "mean       0.004067    0.007152    0.007355           0.01239  "
      ]
     },
     "execution_count": 44,
     "metadata": {},
     "output_type": "execute_result"
    }
   ],
   "source": [
    "df.mean().sort_values(ascending=True).round(6).to_frame(\"mean\").T"
   ]
  },
  {
   "cell_type": "markdown",
   "metadata": {},
   "source": [
    "### Plot the test results"
   ]
  },
  {
   "cell_type": "code",
   "execution_count": 20,
   "metadata": {},
   "outputs": [
    {
     "data": {
      "text/html": [
       "<div>\n",
       "<style scoped>\n",
       "    .dataframe tbody tr th:only-of-type {\n",
       "        vertical-align: middle;\n",
       "    }\n",
       "\n",
       "    .dataframe tbody tr th {\n",
       "        vertical-align: top;\n",
       "    }\n",
       "\n",
       "    .dataframe thead th {\n",
       "        text-align: right;\n",
       "    }\n",
       "</style>\n",
       "<table border=\"1\" class=\"dataframe\">\n",
       "  <thead>\n",
       "    <tr style=\"text-align: right;\">\n",
       "      <th></th>\n",
       "      <th>num</th>\n",
       "      <th>preparation</th>\n",
       "      <th>time</th>\n",
       "      <th>resizer</th>\n",
       "      <th>type</th>\n",
       "      <th>expand_dims</th>\n",
       "    </tr>\n",
       "  </thead>\n",
       "  <tbody>\n",
       "    <tr>\n",
       "      <th>10</th>\n",
       "      <td>10</td>\n",
       "      <td>cv2_None(float64)</td>\n",
       "      <td>0.000105</td>\n",
       "      <td>cv2</td>\n",
       "      <td>None(float64)</td>\n",
       "      <td>False</td>\n",
       "    </tr>\n",
       "    <tr>\n",
       "      <th>11</th>\n",
       "      <td>11</td>\n",
       "      <td>cv2_None(float64)</td>\n",
       "      <td>0.000092</td>\n",
       "      <td>cv2</td>\n",
       "      <td>None(float64)</td>\n",
       "      <td>False</td>\n",
       "    </tr>\n",
       "    <tr>\n",
       "      <th>12</th>\n",
       "      <td>0</td>\n",
       "      <td>cv2_float32</td>\n",
       "      <td>0.000156</td>\n",
       "      <td>cv2</td>\n",
       "      <td>float32</td>\n",
       "      <td>False</td>\n",
       "    </tr>\n",
       "    <tr>\n",
       "      <th>13</th>\n",
       "      <td>1</td>\n",
       "      <td>cv2_float32</td>\n",
       "      <td>0.000139</td>\n",
       "      <td>cv2</td>\n",
       "      <td>float32</td>\n",
       "      <td>False</td>\n",
       "    </tr>\n",
       "  </tbody>\n",
       "</table>\n",
       "</div>"
      ],
      "text/plain": [
       "    num        preparation      time resizer           type  expand_dims\n",
       "10   10  cv2_None(float64)  0.000105     cv2  None(float64)        False\n",
       "11   11  cv2_None(float64)  0.000092     cv2  None(float64)        False\n",
       "12    0        cv2_float32  0.000156     cv2        float32        False\n",
       "13    1        cv2_float32  0.000139     cv2        float32        False"
      ]
     },
     "execution_count": 20,
     "metadata": {},
     "output_type": "execute_result"
    }
   ],
   "source": [
    "# melt the df to the long formate to use with sns plot methods\n",
    "df_long = df.reset_index(names='num').melt(id_vars='num', var_name='preparation', value_name='time')\n",
    "df_long['resizer'] = df_long['preparation'].apply(lambda x: x.split('_')[0])\n",
    "df_long['type'] = df_long['preparation'].apply(lambda x: x.split('_')[-1])\n",
    "df_long['expand_dims'] = df_long['preparation'].apply(lambda x: 'ex' in x)\n",
    "df_long[10:14]"
   ]
  },
  {
   "cell_type": "code",
   "execution_count": 21,
   "metadata": {},
   "outputs": [],
   "source": [
    "def save_plot(file_name: Path):\n",
    "    plt.savefig(file_name)\n",
    "    # plt.show()\n",
    "    plt.close()\n",
    "    print(f\"Plot saved to {file_name.resolve()}\") "
   ]
  },
  {
   "cell_type": "code",
   "execution_count": null,
   "metadata": {},
   "outputs": [
    {
     "name": "stdout",
     "output_type": "stream",
     "text": [
      "Plot saved to C:\\Users\\alena\\AI\\emotions-detector\\results\\timings_img_prepare_cv2_vs_tf.png\n",
      "Plot saved to C:\\Users\\alena\\AI\\emotions-detector\\results\\timings_img_prepare_cv2_vs_tf_one_plot.png\n",
      "Plot saved to C:\\Users\\alena\\AI\\emotions-detector\\results\\timings_img_prepare_compare_types.png\n",
      "Plot saved to C:\\Users\\alena\\AI\\emotions-detector\\results\\timings_img_prepare_compare_types_expand_dims.png\n"
     ]
    }
   ],
   "source": [
    "data_to_plot = df_long[df_long['num'] > 0].copy() # the first try is usualy the longest one for every preparation, so we skip it to have more fair comparison\n",
    "plot = sns.relplot(data=data_to_plot, x='num', y='time', hue='preparation', col='resizer', kind='line', col_wrap=2, height=4)\n",
    "save_plot(PATHS['res_dir'] / 'timings_img_prepare_cv2_vs_tf.png')\n",
    "\n",
    "sns.lineplot(data=data_to_plot, x='num', y='time', hue='resizer')\n",
    "plt.title('Image preparation time for different methods(agregate by resizers)')\n",
    "save_plot(PATHS['res_dir'] / 'timings_img_prepare_cv2_vs_tf_one_plot.png')\n",
    "\n",
    "sns.relplot(data=data_to_plot, x='num', y='time', hue='resizer', col='type', kind='line', col_wrap=3, height=4)\n",
    "save_plot(PATHS['res_dir'] / 'timings_img_prepare_compare_types.png')\n",
    "\n",
    "sns.relplot(data=data_to_plot, x='num', y='time', hue='resizer', col='type', row='expand_dims', kind='line', height=4, facet_kws=dict(margin_titles=True))\n",
    "save_plot(PATHS['res_dir'] / 'timings_img_prepare_compare_types_expand_dims.png')"
   ]
  },
  {
   "cell_type": "code",
   "execution_count": null,
   "metadata": {},
   "outputs": [
    {
     "name": "stdout",
     "output_type": "stream",
     "text": [
      "Plot saved to C:\\Users\\alena\\AI\\emotions-detector\\results\\timings_img_prepare_cv2_3kind.png\n",
      "Plot saved to C:\\Users\\alena\\AI\\emotions-detector\\results\\timings_img_prepare_cv2_type_line.png\n",
      "Plot saved to C:\\Users\\alena\\AI\\emotions-detector\\results\\timings_img_prepare_cv2_expand_dims_line.png\n"
     ]
    }
   ],
   "source": [
    "data_to_plot_cv2 = data_to_plot[(data_to_plot['resizer']=='cv2')].copy()\n",
    "fig, axs = plt.subplots(1, 3, figsize=(16, 5), sharey=True, gridspec_kw={'wspace': 0}, )\n",
    "sns.lineplot(data=data_to_plot_cv2, x='num', y='time', hue='type', style='expand_dims', ax=axs[0])\n",
    "sns.lineplot(data=data_to_plot_cv2, x='num', y='time', hue='expand_dims', ax=axs[1])\n",
    "sns.lineplot(data=data_to_plot_cv2, x='num', y='time', hue='type', ax=axs[2])\n",
    "save_plot(PATHS['res_dir'] / 'timings_img_prepare_cv2_3kind.png')\n",
    "\n",
    "sns.relplot(data=data_to_plot_cv2, x='num', y='time', hue='type', col='expand_dims', kind='line', height=4)\n",
    "save_plot(PATHS['res_dir'] / 'timings_img_prepare_cv2_type_line.png')\n",
    "\n",
    "sns.relplot(data=data_to_plot_cv2, x='num', y='time', hue='expand_dims', col='type', kind='line', height=4)\n",
    "save_plot(PATHS['res_dir'] / 'timings_img_prepare_cv2_expand_dims_line.png')\n"
   ]
  },
  {
   "cell_type": "markdown",
   "metadata": {},
   "source": [
    "Save combined image of all plots"
   ]
  },
  {
   "cell_type": "code",
   "execution_count": null,
   "metadata": {},
   "outputs": [
    {
     "name": "stdout",
     "output_type": "stream",
     "text": [
      "Plots comparing preparation timings saved to C:\\Users\\alena\\AI\\emotions-detector\\results\\timings_img_prepare_compare.png\n"
     ]
    }
   ],
   "source": [
    "files = sorted(\n",
    "    [f for f in PATHS['res_dir'].glob('timings_img_prepare_*_*.png')],\n",
    "    key=lambda f: f.stat().st_mtime,\n",
    "    reverse=False  # from oldest to newest\n",
    ")\n",
    "imgs = [Image.open(img) for img in files]\n",
    "\n",
    "# get plots' sizes\n",
    "widths, heights = zip(*(img.size for img in imgs))\n",
    "total_height = sum(heights)\n",
    "max_width = max(widths)\n",
    "\n",
    "combined_img = Image.new(\"RGB\", (max_width, total_height), color=(255, 255, 255)) # white background\n",
    "\n",
    "# Paste each image into the combined image one under another\n",
    "y_offset = 0\n",
    "for img in imgs:\n",
    "    combined_img.paste(img, (0, y_offset))\n",
    "    y_offset += img.size[1]\n",
    "\n",
    "file_name = PATHS['res_dir'] / \"timings_img_prepare_compare.png\"\n",
    "combined_img.save(file_name)\n",
    "print(f\"Plots comparing preparation timings saved to {file_name.resolve()}\")"
   ]
  },
  {
   "cell_type": "markdown",
   "metadata": {},
   "source": [
    "### Chosen prepare function\n",
    "I will use img_prepare_cv2 with type <class 'numpy.float32'> to prepare the images. Rewrite it to use with float32 only. "
   ]
  },
  {
   "cell_type": "code",
   "execution_count": 48,
   "metadata": {},
   "outputs": [],
   "source": [
    "img_prepare_local = lambda img: img_prepare(img, img_shape=img_shape, flt_type=np.float32)"
   ]
  },
  {
   "cell_type": "code",
   "execution_count": 56,
   "metadata": {},
   "outputs": [],
   "source": [
    "timings = test_img_prepare(faces, img_prepare_local)"
   ]
  },
  {
   "cell_type": "code",
   "execution_count": 57,
   "metadata": {},
   "outputs": [
    {
     "data": {
      "text/html": [
       "<div>\n",
       "<style scoped>\n",
       "    .dataframe tbody tr th:only-of-type {\n",
       "        vertical-align: middle;\n",
       "    }\n",
       "\n",
       "    .dataframe tbody tr th {\n",
       "        vertical-align: top;\n",
       "    }\n",
       "\n",
       "    .dataframe thead th {\n",
       "        text-align: right;\n",
       "    }\n",
       "</style>\n",
       "<table border=\"1\" class=\"dataframe\">\n",
       "  <thead>\n",
       "    <tr style=\"text-align: right;\">\n",
       "      <th></th>\n",
       "      <th>preparation</th>\n",
       "      <th>num</th>\n",
       "      <th>time</th>\n",
       "    </tr>\n",
       "  </thead>\n",
       "  <tbody>\n",
       "    <tr>\n",
       "      <th>10</th>\n",
       "      <td>simple func</td>\n",
       "      <td>10</td>\n",
       "      <td>0.000099</td>\n",
       "    </tr>\n",
       "    <tr>\n",
       "      <th>11</th>\n",
       "      <td>simple func</td>\n",
       "      <td>11</td>\n",
       "      <td>0.000080</td>\n",
       "    </tr>\n",
       "    <tr>\n",
       "      <th>12</th>\n",
       "      <td>cv2_float32</td>\n",
       "      <td>0</td>\n",
       "      <td>0.000293</td>\n",
       "    </tr>\n",
       "    <tr>\n",
       "      <th>13</th>\n",
       "      <td>cv2_float32</td>\n",
       "      <td>1</td>\n",
       "      <td>0.000178</td>\n",
       "    </tr>\n",
       "  </tbody>\n",
       "</table>\n",
       "</div>"
      ],
      "text/plain": [
       "    preparation  num      time\n",
       "10  simple func   10  0.000099\n",
       "11  simple func   11  0.000080\n",
       "12  cv2_float32    0  0.000293\n",
       "13  cv2_float32    1  0.000178"
      ]
     },
     "execution_count": 57,
     "metadata": {},
     "output_type": "execute_result"
    }
   ],
   "source": [
    "df_to_plot = pd.concat([pd.Series(timings),\n",
    "                        df['cv2_float32']], keys=['simple func', 'cv2_float32'], axis=0, names=['preparation', 'num']).rename('time').reset_index()\n",
    "df_to_plot[10:14]"
   ]
  },
  {
   "cell_type": "code",
   "execution_count": 58,
   "metadata": {},
   "outputs": [
    {
     "data": {
      "image/png": "[encoded data removed]",
      "text/plain": [
       "<Figure size 640x480 with 1 Axes>"
      ]
     },
     "metadata": {},
     "output_type": "display_data"
    }
   ],
   "source": [
    "sns.lineplot(data=df_to_plot, x='num', y='time', hue='preparation')\n",
    "plt.show()"
   ]
  },
  {
   "cell_type": "code",
   "execution_count": 55,
   "metadata": {},
   "outputs": [
    {
     "data": {
      "image/png": "[encoded data removed]",
      "text/plain": [
       "<Figure size 650x450 with 12 Axes>"
      ]
     },
     "metadata": {},
     "output_type": "display_data"
    }
   ],
   "source": [
    "_ = print_imgs(list((img_prepare(face)[0] for face in faces)), \n",
    "           labels=(f'{face.shape}:{time_prp*1000: .2}ms' for face, time_prp in zip(faces, timings)), \n",
    "           cols=4, figsize=(6.5, 4.5), title=\"Prepared images with their initial size and time of preparation\", label_size=10)"
   ]
  },
  {
   "cell_type": "markdown",
   "metadata": {},
   "source": [
    "## Compare tf and tflite models"
   ]
  },
  {
   "cell_type": "code",
   "execution_count": 59,
   "metadata": {},
   "outputs": [],
   "source": [
    "# use predict functions with current parameters - model and interpreter, so that they depend on image only\n",
    "predict_img_tf_local = lambda img: predict_img_tf(img, model=model, img_shape=img_shape, flt_type=np.float32, img_prepare_fn=img_prepare)\n",
    "predict_img_tflite_local = lambda img: predict_img_tflite(img, interpreter=interpreter_lite_model,\n",
    "                                                          input_index=interpreter_input_details['index'], output_index=interpreter_output_details['index'],\n",
    "                                                          img_shape=img_shape, flt_type=np.float32, img_prepare_fn=img_prepare)"
   ]
  },
  {
   "cell_type": "markdown",
   "metadata": {},
   "source": [
    "### Prediction time"
   ]
  },
  {
   "cell_type": "code",
   "execution_count": 64,
   "metadata": {},
   "outputs": [
    {
     "data": {
      "text/html": [
       "<div>\n",
       "<style scoped>\n",
       "    .dataframe tbody tr th:only-of-type {\n",
       "        vertical-align: middle;\n",
       "    }\n",
       "\n",
       "    .dataframe tbody tr th {\n",
       "        vertical-align: top;\n",
       "    }\n",
       "\n",
       "    .dataframe thead th {\n",
       "        text-align: right;\n",
       "    }\n",
       "</style>\n",
       "<table border=\"1\" class=\"dataframe\">\n",
       "  <thead>\n",
       "    <tr style=\"text-align: right;\">\n",
       "      <th></th>\n",
       "      <th>tflite</th>\n",
       "      <th>tf</th>\n",
       "    </tr>\n",
       "  </thead>\n",
       "  <tbody>\n",
       "    <tr>\n",
       "      <th>mean</th>\n",
       "      <td>0.032677</td>\n",
       "      <td>0.419164</td>\n",
       "    </tr>\n",
       "  </tbody>\n",
       "</table>\n",
       "</div>"
      ],
      "text/plain": [
       "        tflite        tf\n",
       "mean  0.032677  0.419164"
      ]
     },
     "execution_count": 64,
     "metadata": {},
     "output_type": "execute_result"
    }
   ],
   "source": [
    "timing = test_img_prepare(faces, predict_img_tf_local)\n",
    "timing_lite = test_img_prepare(faces, predict_img_tflite_local)\n",
    "df_timing = pd.DataFrame({'tf': timing, 'tflite': timing_lite}, index=range(len(timing)))\n",
    "df_timing.mean().sort_values(ascending=True).round(6).to_frame(\"mean\").T"
   ]
  },
  {
   "cell_type": "code",
   "execution_count": 65,
   "metadata": {},
   "outputs": [
    {
     "data": {
      "image/png": "[encoded data removed]",
      "text/plain": [
       "<Figure size 1000x500 with 1 Axes>"
      ]
     },
     "metadata": {},
     "output_type": "display_data"
    }
   ],
   "source": [
    "df_timing.rename_axis('models', inplace=True, axis=1)\n",
    "df_timing.plot(kind='bar', figsize=(10, 5), title='Average time for image preparation and prediction', xlabel='images', ylabel='time', label='time', )\n",
    "plt.show()"
   ]
  },
  {
   "cell_type": "markdown",
   "metadata": {},
   "source": [
    "### Metrics"
   ]
  },
  {
   "cell_type": "code",
   "execution_count": 66,
   "metadata": {},
   "outputs": [
    {
     "name": "stdout",
     "output_type": "stream",
     "text": [
      "tf model\n",
      "\u001b[1m32/32\u001b[0m \u001b[32m━━━━━━━━━━━━━━━━━━━━\u001b[0m\u001b[37m\u001b[0m \u001b[1m12s\u001b[0m 347ms/step - accuracy: 0.5759 - loss: 1.5947\n",
      "tflite model\n",
      "................................\n",
      "{'categorical_accuracy': np.float32(0.568), 'loss': np.float32(1.3655312)}\n"
     ]
    }
   ],
   "source": [
    "print('tf model')\n",
    "eval_tf = model.evaluate(X_test, y_test_onehot, verbose=1, return_dict=True)\n",
    "print('tflite model')\n",
    "eval_tflite = evaluate_tflite_model(interpreter_lite_model, X_test, y_test_onehot, metrics=\"accuracy\", return_dict=True)"
   ]
  },
  {
   "cell_type": "code",
   "execution_count": 67,
   "metadata": {},
   "outputs": [
    {
     "data": {
      "text/html": [
       "<div>\n",
       "<style scoped>\n",
       "    .dataframe tbody tr th:only-of-type {\n",
       "        vertical-align: middle;\n",
       "    }\n",
       "\n",
       "    .dataframe tbody tr th {\n",
       "        vertical-align: top;\n",
       "    }\n",
       "\n",
       "    .dataframe thead th {\n",
       "        text-align: right;\n",
       "    }\n",
       "</style>\n",
       "<table border=\"1\" class=\"dataframe\">\n",
       "  <thead>\n",
       "    <tr style=\"text-align: right;\">\n",
       "      <th></th>\n",
       "      <th>accuracy</th>\n",
       "      <th>loss</th>\n",
       "    </tr>\n",
       "  </thead>\n",
       "  <tbody>\n",
       "    <tr>\n",
       "      <th>tf</th>\n",
       "      <td>0.564</td>\n",
       "      <td>1.549809</td>\n",
       "    </tr>\n",
       "    <tr>\n",
       "      <th>tf_lite</th>\n",
       "      <td>0.568</td>\n",
       "      <td>1.365531</td>\n",
       "    </tr>\n",
       "  </tbody>\n",
       "</table>\n",
       "</div>"
      ],
      "text/plain": [
       "         accuracy      loss\n",
       "tf          0.564  1.549809\n",
       "tf_lite     0.568  1.365531"
      ]
     },
     "execution_count": 67,
     "metadata": {},
     "output_type": "execute_result"
    }
   ],
   "source": [
    "df = pd.DataFrame([eval_tf, {k.split('_')[-1]:v for k,v in eval_tflite.items()}], index=['tf', 'tf_lite'])\n",
    "df"
   ]
  },
  {
   "cell_type": "code",
   "execution_count": null,
   "metadata": {},
   "outputs": [],
   "source": []
  }
 ],
 "metadata": {
  "kernelspec": {
   "display_name": ".venv",
   "language": "python",
   "name": "python3"
  },
  "language_info": {
   "codemirror_mode": {
    "name": "ipython",
    "version": 3
   },
   "file_extension": ".py",
   "mimetype": "text/x-python",
   "name": "python",
   "nbconvert_exporter": "python",
   "pygments_lexer": "ipython3",
   "version": "3.12.3"
  }
 },
 "nbformat": 4,
 "nbformat_minor": 2
}
