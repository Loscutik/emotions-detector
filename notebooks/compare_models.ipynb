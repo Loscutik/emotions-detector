{
 "cells": [
  {
   "cell_type": "markdown",
   "metadata": {},
   "source": [
    "# Import"
   ]
  },
  {
   "cell_type": "code",
   "execution_count": 35,
   "metadata": {},
   "outputs": [],
   "source": [
    "import sys\n",
    "from pathlib import Path\n",
    "\n",
    "##os.getcwd()\n",
    "if \"../scripts/\" not in sys.path:  # to prevent multyadding  \n",
    "    sys.path.append(\"../scripts/\") \n",
    "# types\n",
    "import pickle\n",
    "import time\n",
    "\n",
    "# work with data\n",
    "import numpy as np\n",
    "import pandas as pd\n",
    "from sklearn.utils import resample\n",
    "import tensorflow as tf\n",
    "\n",
    "# visualization\n",
    "import seaborn as sns\n",
    "import matplotlib.pyplot as plt\n",
    "from PIL import Image\n",
    "import cv2\n",
    "\n",
    "from get_data import data_dir, read_configuration, normalize_images\n",
    "from data_handle import img_prepare, predict_img_tflite, predict_img_tf, evaluate_tflite_model\n",
    "from helpers import print_imgs"
   ]
  },
  {
   "cell_type": "code",
   "execution_count": 2,
   "metadata": {},
   "outputs": [],
   "source": [
    "configuration = read_configuration(data_dir / \"config.yaml\")"
   ]
  },
  {
   "cell_type": "markdown",
   "metadata": {},
   "source": [
    "# Load data"
   ]
  },
  {
   "cell_type": "code",
   "execution_count": 3,
   "metadata": {},
   "outputs": [],
   "source": [
    "PATHS, EMOTIONS = configuration['paths'], configuration['emotions']"
   ]
  },
  {
   "cell_type": "markdown",
   "metadata": {},
   "source": [
    "## TF model"
   ]
  },
  {
   "cell_type": "code",
   "execution_count": 4,
   "metadata": {},
   "outputs": [],
   "source": [
    "model = tf.keras.models.load_model(PATHS['model_path'])"
   ]
  },
  {
   "cell_type": "code",
   "execution_count": 5,
   "metadata": {},
   "outputs": [
    {
     "data": {
      "text/plain": [
       "\"img_shape=(48, 48), img_dtype='float32'\""
      ]
     },
     "execution_count": 5,
     "metadata": {},
     "output_type": "execute_result"
    }
   ],
   "source": [
    "img_shape = model.input_shape[1:3]\n",
    "img_dtype = model.input_dtype\n",
    "f'{img_shape=}, {img_dtype=}'"
   ]
  },
  {
   "cell_type": "markdown",
   "metadata": {},
   "source": [
    "## Quantized model"
   ]
  },
  {
   "cell_type": "code",
   "execution_count": 6,
   "metadata": {},
   "outputs": [
    {
     "name": "stderr",
     "output_type": "stream",
     "text": [
      "c:\\Users\\alena\\AI\\emotions-detector\\.venv\\Lib\\site-packages\\tensorflow\\lite\\python\\interpreter.py:457: UserWarning:     Warning: tf.lite.Interpreter is deprecated and is scheduled for deletion in\n",
      "    TF 2.20. Please use the LiteRT interpreter from the ai_edge_litert package.\n",
      "    See the [migration guide](https://ai.google.dev/edge/litert/migration)\n",
      "    for details.\n",
      "    \n",
      "  warnings.warn(_INTERPRETER_DELETION_WARNING)\n"
     ]
    }
   ],
   "source": [
    "interpreter_lite_model = tf.lite.Interpreter(model_path=PATHS['tflite_model_path'].as_posix())"
   ]
  },
  {
   "cell_type": "code",
   "execution_count": 7,
   "metadata": {},
   "outputs": [
    {
     "data": {
      "text/plain": [
       "{'name': 'serving_default_input_layer_2:0',\n",
       " 'index': 0,\n",
       " 'shape': array([ 1, 48, 48,  1], dtype=int32),\n",
       " 'shape_signature': array([-1, 48, 48,  1], dtype=int32),\n",
       " 'dtype': numpy.float32,\n",
       " 'quantization': (0.0, 0),\n",
       " 'quantization_parameters': {'scales': array([], dtype=float32),\n",
       "  'zero_points': array([], dtype=int32),\n",
       "  'quantized_dimension': 0},\n",
       " 'sparsity_parameters': {}}"
      ]
     },
     "execution_count": 7,
     "metadata": {},
     "output_type": "execute_result"
    }
   ],
   "source": [
    "interpreter_input_details = interpreter_lite_model.get_input_details()[0]\n",
    "interpreter_input_details"
   ]
  },
  {
   "cell_type": "code",
   "execution_count": 8,
   "metadata": {},
   "outputs": [
    {
     "data": {
      "text/plain": [
       "{'name': 'StatefulPartitionedCall_1:0',\n",
       " 'index': 193,\n",
       " 'shape': array([1, 7], dtype=int32),\n",
       " 'shape_signature': array([-1,  7], dtype=int32),\n",
       " 'dtype': numpy.float32,\n",
       " 'quantization': (0.0, 0),\n",
       " 'quantization_parameters': {'scales': array([], dtype=float32),\n",
       "  'zero_points': array([], dtype=int32),\n",
       "  'quantized_dimension': 0},\n",
       " 'sparsity_parameters': {}}"
      ]
     },
     "execution_count": 8,
     "metadata": {},
     "output_type": "execute_result"
    }
   ],
   "source": [
    "interpreter_output_details = interpreter_lite_model.get_output_details()[0]\n",
    "interpreter_output_details"
   ]
  },
  {
   "cell_type": "markdown",
   "metadata": {},
   "source": [
    "## Test set"
   ]
  },
  {
   "cell_type": "code",
   "execution_count": 9,
   "metadata": {},
   "outputs": [],
   "source": [
    "X_test, y_test_onehot = np.load(PATHS['res_dir'] / 'X_test.npy'), np.load(PATHS['res_dir'] / 'y_test_onehot.npy')\n",
    "X_test, y_test_onehot = resample(X_test, y_test_onehot, replace=False, n_samples=1000, stratify=y_test_onehot)"
   ]
  },
  {
   "cell_type": "markdown",
   "metadata": {},
   "source": [
    "# Tests"
   ]
  },
  {
   "cell_type": "markdown",
   "metadata": {},
   "source": [
    "## Image preparation\n",
    "Test different functions to resize an image, to expand dimentions and convert it to different data type.  \n"
   ]
  },
  {
   "cell_type": "markdown",
   "metadata": {},
   "source": [
    "### Function to test  \n",
    "Structure of the functions names:  \n",
    "`img_prepare_<resize_method>[_<expand_method>]`, where\n",
    "- <resize_method>==cv2 => use cv2.resize\n",
    "- <resize_method>==tf => use tf.image.resize\n",
    "- <expand_method> is omitted => use np.newaxis to expand\n",
    "- <expand_method>==ex => use np.expand_dims"
   ]
  },
  {
   "cell_type": "code",
   "execution_count": 10,
   "metadata": {},
   "outputs": [],
   "source": [
    "def img_prepare_cv2(img:np.ndarray, flt_type:np.dtype|None=None):\n",
    "    img = normalize_images(img)\n",
    "    img = cv2.resize(img, img_shape)[np.newaxis,:,:,np.newaxis]\n",
    "    if flt_type is not None: # convert after resize, because cv2.resize doesn't support float16\n",
    "        img = img.astype(flt_type)\n",
    "    return img"
   ]
  },
  {
   "cell_type": "code",
   "execution_count": 11,
   "metadata": {},
   "outputs": [],
   "source": [
    "def img_prepare_cv2_ex(img:np.ndarray, flt_type:np.dtype|None=None):\n",
    "    img = normalize_images(img)\n",
    "    img = cv2.resize(img, img_shape)\n",
    "    if flt_type is not None: # convert after resize, because cv2.resize doesn't support float16\n",
    "        img = img.astype(flt_type)\n",
    "    img = np.expand_dims(img, axis=-1)  # add channel dimension\n",
    "    img = np.expand_dims(img, axis=0)  # add batch dimension\n",
    "    return img"
   ]
  },
  {
   "cell_type": "code",
   "execution_count": 12,
   "metadata": {},
   "outputs": [],
   "source": [
    "def img_prepare_tf(img:np.ndarray, flt_type:np.dtype|None=None):\n",
    "    img = normalize_images(img)\n",
    "    if flt_type is not None:\n",
    "        img = img.astype(flt_type)\n",
    "    img = tf.image.resize(img[np.newaxis,:,:,np.newaxis], img_shape)  # resize to (1, H, W, C)\n",
    "    return img"
   ]
  },
  {
   "cell_type": "code",
   "execution_count": 13,
   "metadata": {},
   "outputs": [],
   "source": [
    "def img_prepare_tf_ex(img:np.ndarray, flt_type:np.dtype|None=None):\n",
    "    img = normalize_images(img)\n",
    "    if flt_type is not None:\n",
    "        img = img.astype(flt_type)\n",
    "    img = tf.expand_dims(img, axis=-1)  # (H, W, C)\n",
    "    img = tf.expand_dims(img, axis=0)  # (1, H, W, C)\n",
    "    img = tf.image.resize(img, img_shape)  \n",
    "    return img"
   ]
  },
  {
   "cell_type": "markdown",
   "metadata": {},
   "source": [
    "### Collect images"
   ]
  },
  {
   "cell_type": "code",
   "execution_count": 14,
   "metadata": {},
   "outputs": [],
   "source": [
    "#load the pre-trained Haar Cascade classifier\n",
    "face_classifier = cv2.CascadeClassifier(\n",
    "    cv2.data.haarcascades + \"haarcascade_frontalface_default.xml\"\n",
    ")\n",
    "\n",
    "def get_face(vid):\n",
    "    gray_image = cv2.cvtColor(vid, cv2.COLOR_BGR2GRAY)\n",
    "    faces = face_classifier.detectMultiScale(gray_image, 1.1, 7, minSize=(40, 40))\n",
    "    if len(faces) == 0:\n",
    "        return None, (0,0,0,0)\n",
    "    \n",
    "    x, y, w, h = faces[0]\n",
    "    return gray_image[y:y + h, x:x + w], (x, y, w, h)"
   ]
  },
  {
   "cell_type": "code",
   "execution_count": 15,
   "metadata": {},
   "outputs": [],
   "source": [
    "def collect_faces(num=12, max_error_faces_recognition=120):\n",
    "    video_capture = cv2.VideoCapture(0)\n",
    "    not_recognized=0\n",
    "    frequency = int(video_capture.get(cv2.CAP_PROP_FPS))//2\n",
    "    frame_count = frequency\n",
    "    faces = []\n",
    "    faces_counter = 0\n",
    "    while faces_counter < num:\n",
    "        result, video_frame = video_capture.read()  # read frames from the video\n",
    "        if result is False:\n",
    "            break  # terminate the loop if the frame is not read successfully\n",
    "  \n",
    "        face, _ = get_face(video_frame)  \n",
    "        if face is not None:\n",
    "            \n",
    "            if frame_count==frequency:\n",
    "                frame_count=0\n",
    "                faces.append(face)\n",
    "                faces_counter += 1\n",
    "            \n",
    "            frame_count += 1\n",
    "        else:\n",
    "            not_recognized += 1\n",
    "            if not_recognized>max_error_faces_recognition:\n",
    "                break\n",
    "  \n",
    "        # Display the resulting frame \n",
    "        cv2.imshow('video', video_frame) \n",
    "    \n",
    "        # creating 'q' as the quit  \n",
    "        # button for the video \n",
    "        if cv2.waitKey(1) & 0xFF == ord('q'): \n",
    "            break\n",
    "    video_capture.release()\n",
    "    cv2.destroyAllWindows()\n",
    "    return faces, not_recognized\n",
    "\n",
    "def test_img_prepare(imgs, func, *args, **kwargs):\n",
    "    timings = np.zeros(len(imgs), dtype=np.float32)\n",
    "    for i, img in enumerate(imgs):\n",
    "        start = time.perf_counter()\n",
    "        tmp = func(img, *args, **kwargs)\n",
    "        end = time.perf_counter()\n",
    "        timings[i] = end - start\n",
    "    return timings\n"
   ]
  },
  {
   "cell_type": "code",
   "execution_count": 16,
   "metadata": {},
   "outputs": [],
   "source": [
    "faces_test_file_path = PATHS['res_dir'] / 'faces_test.npy'\n",
    "if faces_test_file_path.exists():\n",
    "    with open(faces_test_file_path, 'rb') as f:\n",
    "        faces = pickle.load(f)\n",
    "else:\n",
    "    faces, not_recognized = collect_faces()\n",
    "    print(f\"Collected {len(faces)} faces, not recognized: {not_recognized}\")\n",
    "    with open(faces_test_file_path, 'wb') as f:\n",
    "        pickle.dump(faces, f)\n",
    "    print(f'Images loaded from {faces_test_file_path.resolve()}')"
   ]
  },
  {
   "cell_type": "markdown",
   "metadata": {},
   "source": [
    "### Testing"
   ]
  },
  {
   "cell_type": "code",
   "execution_count": 17,
   "metadata": {},
   "outputs": [
    {
     "name": "stdout",
     "output_type": "stream",
     "text": [
      "Testing img_prepare_cv2 with type None\n",
      "Testing img_prepare_cv2 with type <class 'numpy.float32'>\n",
      "Testing img_prepare_cv2 with type <class 'numpy.float16'>\n",
      "Testing img_prepare_cv2_ex with type None\n",
      "Testing img_prepare_cv2_ex with type <class 'numpy.float32'>\n",
      "Testing img_prepare_cv2_ex with type <class 'numpy.float16'>\n",
      "Testing img_prepare_tf with type None\n",
      "Testing img_prepare_tf with type <class 'numpy.float32'>\n",
      "Testing img_prepare_tf with type <class 'numpy.float16'>\n",
      "Testing img_prepare_tf_ex with type None\n",
      "Testing img_prepare_tf_ex with type <class 'numpy.float32'>\n",
      "Testing img_prepare_tf_ex with type <class 'numpy.float16'>\n"
     ]
    }
   ],
   "source": [
    "funcs_to_test = [img_prepare_cv2, img_prepare_cv2_ex, img_prepare_tf, img_prepare_tf_ex]\n",
    "types = [None, np.float32, np.float16]\n",
    "timings = {}\n",
    "for prep_func in funcs_to_test:\n",
    "    for tp in types:\n",
    "        print(f\"Testing {prep_func.__name__} with type {tp}\")\n",
    "        timing = test_img_prepare(faces, prep_func, tp)\n",
    "        timings_key = f\"{prep_func.__name__}_{tp.__name__ if tp else 'None(float64)'}\"\n",
    "        timings[timings_key] = timing\n",
    "df = pd.DataFrame(timings)\n"
   ]
  },
  {
   "cell_type": "markdown",
   "metadata": {},
   "source": [
    "Print the tests results:"
   ]
  },
  {
   "cell_type": "code",
   "execution_count": 18,
   "metadata": {},
   "outputs": [
    {
     "data": {
      "text/html": [
       "<div>\n",
       "<style scoped>\n",
       "    .dataframe tbody tr th:only-of-type {\n",
       "        vertical-align: middle;\n",
       "    }\n",
       "\n",
       "    .dataframe tbody tr th {\n",
       "        vertical-align: top;\n",
       "    }\n",
       "\n",
       "    .dataframe thead th {\n",
       "        text-align: right;\n",
       "    }\n",
       "</style>\n",
       "<table border=\"1\" class=\"dataframe\">\n",
       "  <thead>\n",
       "    <tr style=\"text-align: right;\">\n",
       "      <th></th>\n",
       "      <th>cv2_None(float64)</th>\n",
       "      <th>cv2_float32</th>\n",
       "      <th>cv2_float16</th>\n",
       "      <th>cv2_ex_None(float64)</th>\n",
       "      <th>cv2_ex_float32</th>\n",
       "      <th>cv2_ex_float16</th>\n",
       "      <th>tf_None(float64)</th>\n",
       "      <th>tf_float32</th>\n",
       "      <th>tf_float16</th>\n",
       "      <th>tf_ex_None(float64)</th>\n",
       "      <th>tf_ex_float32</th>\n",
       "      <th>tf_ex_float16</th>\n",
       "    </tr>\n",
       "  </thead>\n",
       "  <tbody>\n",
       "    <tr>\n",
       "      <th>0</th>\n",
       "      <td>0.034696</td>\n",
       "      <td>0.000173</td>\n",
       "      <td>0.001638</td>\n",
       "      <td>0.000233</td>\n",
       "      <td>0.000215</td>\n",
       "      <td>0.000432</td>\n",
       "      <td>0.016013</td>\n",
       "      <td>0.004469</td>\n",
       "      <td>0.009745</td>\n",
       "      <td>0.005228</td>\n",
       "      <td>0.004347</td>\n",
       "      <td>0.003347</td>\n",
       "    </tr>\n",
       "    <tr>\n",
       "      <th>1</th>\n",
       "      <td>0.000256</td>\n",
       "      <td>0.000165</td>\n",
       "      <td>0.000435</td>\n",
       "      <td>0.000319</td>\n",
       "      <td>0.000224</td>\n",
       "      <td>0.000340</td>\n",
       "      <td>0.000959</td>\n",
       "      <td>0.001104</td>\n",
       "      <td>0.001716</td>\n",
       "      <td>0.001086</td>\n",
       "      <td>0.001252</td>\n",
       "      <td>0.001524</td>\n",
       "    </tr>\n",
       "    <tr>\n",
       "      <th>2</th>\n",
       "      <td>0.000144</td>\n",
       "      <td>0.000161</td>\n",
       "      <td>0.000480</td>\n",
       "      <td>0.000180</td>\n",
       "      <td>0.000169</td>\n",
       "      <td>0.001018</td>\n",
       "      <td>0.000779</td>\n",
       "      <td>0.002058</td>\n",
       "      <td>0.001422</td>\n",
       "      <td>0.000696</td>\n",
       "      <td>0.001069</td>\n",
       "      <td>0.001337</td>\n",
       "    </tr>\n",
       "    <tr>\n",
       "      <th>3</th>\n",
       "      <td>0.000138</td>\n",
       "      <td>0.000138</td>\n",
       "      <td>0.000193</td>\n",
       "      <td>0.000214</td>\n",
       "      <td>0.000160</td>\n",
       "      <td>0.000689</td>\n",
       "      <td>0.001016</td>\n",
       "      <td>0.002289</td>\n",
       "      <td>0.001263</td>\n",
       "      <td>0.000658</td>\n",
       "      <td>0.001014</td>\n",
       "      <td>0.001607</td>\n",
       "    </tr>\n",
       "    <tr>\n",
       "      <th>4</th>\n",
       "      <td>0.000145</td>\n",
       "      <td>0.000141</td>\n",
       "      <td>0.000162</td>\n",
       "      <td>0.000203</td>\n",
       "      <td>0.000263</td>\n",
       "      <td>0.001377</td>\n",
       "      <td>0.002447</td>\n",
       "      <td>0.001767</td>\n",
       "      <td>0.001478</td>\n",
       "      <td>0.000648</td>\n",
       "      <td>0.001037</td>\n",
       "      <td>0.001884</td>\n",
       "    </tr>\n",
       "    <tr>\n",
       "      <th>5</th>\n",
       "      <td>0.000158</td>\n",
       "      <td>0.000170</td>\n",
       "      <td>0.000236</td>\n",
       "      <td>0.000182</td>\n",
       "      <td>0.000228</td>\n",
       "      <td>0.002230</td>\n",
       "      <td>0.001682</td>\n",
       "      <td>0.001051</td>\n",
       "      <td>0.001606</td>\n",
       "      <td>0.001053</td>\n",
       "      <td>0.001104</td>\n",
       "      <td>0.004222</td>\n",
       "    </tr>\n",
       "    <tr>\n",
       "      <th>6</th>\n",
       "      <td>0.000139</td>\n",
       "      <td>0.000131</td>\n",
       "      <td>0.000159</td>\n",
       "      <td>0.000879</td>\n",
       "      <td>0.000155</td>\n",
       "      <td>0.000467</td>\n",
       "      <td>0.000975</td>\n",
       "      <td>0.000845</td>\n",
       "      <td>0.001406</td>\n",
       "      <td>0.000938</td>\n",
       "      <td>0.002768</td>\n",
       "      <td>0.001421</td>\n",
       "    </tr>\n",
       "    <tr>\n",
       "      <th>7</th>\n",
       "      <td>0.000143</td>\n",
       "      <td>0.000390</td>\n",
       "      <td>0.000147</td>\n",
       "      <td>0.000460</td>\n",
       "      <td>0.000177</td>\n",
       "      <td>0.001116</td>\n",
       "      <td>0.000947</td>\n",
       "      <td>0.000757</td>\n",
       "      <td>0.001284</td>\n",
       "      <td>0.000849</td>\n",
       "      <td>0.001168</td>\n",
       "      <td>0.001577</td>\n",
       "    </tr>\n",
       "    <tr>\n",
       "      <th>8</th>\n",
       "      <td>0.000108</td>\n",
       "      <td>0.000125</td>\n",
       "      <td>0.000194</td>\n",
       "      <td>0.000158</td>\n",
       "      <td>0.000118</td>\n",
       "      <td>0.000509</td>\n",
       "      <td>0.000678</td>\n",
       "      <td>0.000663</td>\n",
       "      <td>0.000825</td>\n",
       "      <td>0.003129</td>\n",
       "      <td>0.000882</td>\n",
       "      <td>0.001380</td>\n",
       "    </tr>\n",
       "    <tr>\n",
       "      <th>9</th>\n",
       "      <td>0.000095</td>\n",
       "      <td>0.000100</td>\n",
       "      <td>0.000171</td>\n",
       "      <td>0.000298</td>\n",
       "      <td>0.000119</td>\n",
       "      <td>0.000397</td>\n",
       "      <td>0.001970</td>\n",
       "      <td>0.000584</td>\n",
       "      <td>0.000835</td>\n",
       "      <td>0.001757</td>\n",
       "      <td>0.000783</td>\n",
       "      <td>0.001282</td>\n",
       "    </tr>\n",
       "    <tr>\n",
       "      <th>10</th>\n",
       "      <td>0.000102</td>\n",
       "      <td>0.000630</td>\n",
       "      <td>0.000132</td>\n",
       "      <td>0.000126</td>\n",
       "      <td>0.000195</td>\n",
       "      <td>0.000356</td>\n",
       "      <td>0.000856</td>\n",
       "      <td>0.000517</td>\n",
       "      <td>0.000889</td>\n",
       "      <td>0.000886</td>\n",
       "      <td>0.000692</td>\n",
       "      <td>0.001272</td>\n",
       "    </tr>\n",
       "    <tr>\n",
       "      <th>11</th>\n",
       "      <td>0.000102</td>\n",
       "      <td>0.000173</td>\n",
       "      <td>0.000127</td>\n",
       "      <td>0.000283</td>\n",
       "      <td>0.000189</td>\n",
       "      <td>0.000357</td>\n",
       "      <td>0.000995</td>\n",
       "      <td>0.000716</td>\n",
       "      <td>0.004699</td>\n",
       "      <td>0.000897</td>\n",
       "      <td>0.000914</td>\n",
       "      <td>0.001098</td>\n",
       "    </tr>\n",
       "  </tbody>\n",
       "</table>\n",
       "</div>"
      ],
      "text/plain": [
       "    cv2_None(float64)  cv2_float32  cv2_float16  cv2_ex_None(float64)  \\\n",
       "0            0.034696     0.000173     0.001638              0.000233   \n",
       "1            0.000256     0.000165     0.000435              0.000319   \n",
       "2            0.000144     0.000161     0.000480              0.000180   \n",
       "3            0.000138     0.000138     0.000193              0.000214   \n",
       "4            0.000145     0.000141     0.000162              0.000203   \n",
       "5            0.000158     0.000170     0.000236              0.000182   \n",
       "6            0.000139     0.000131     0.000159              0.000879   \n",
       "7            0.000143     0.000390     0.000147              0.000460   \n",
       "8            0.000108     0.000125     0.000194              0.000158   \n",
       "9            0.000095     0.000100     0.000171              0.000298   \n",
       "10           0.000102     0.000630     0.000132              0.000126   \n",
       "11           0.000102     0.000173     0.000127              0.000283   \n",
       "\n",
       "    cv2_ex_float32  cv2_ex_float16  tf_None(float64)  tf_float32  tf_float16  \\\n",
       "0         0.000215        0.000432          0.016013    0.004469    0.009745   \n",
       "1         0.000224        0.000340          0.000959    0.001104    0.001716   \n",
       "2         0.000169        0.001018          0.000779    0.002058    0.001422   \n",
       "3         0.000160        0.000689          0.001016    0.002289    0.001263   \n",
       "4         0.000263        0.001377          0.002447    0.001767    0.001478   \n",
       "5         0.000228        0.002230          0.001682    0.001051    0.001606   \n",
       "6         0.000155        0.000467          0.000975    0.000845    0.001406   \n",
       "7         0.000177        0.001116          0.000947    0.000757    0.001284   \n",
       "8         0.000118        0.000509          0.000678    0.000663    0.000825   \n",
       "9         0.000119        0.000397          0.001970    0.000584    0.000835   \n",
       "10        0.000195        0.000356          0.000856    0.000517    0.000889   \n",
       "11        0.000189        0.000357          0.000995    0.000716    0.004699   \n",
       "\n",
       "    tf_ex_None(float64)  tf_ex_float32  tf_ex_float16  \n",
       "0              0.005228       0.004347       0.003347  \n",
       "1              0.001086       0.001252       0.001524  \n",
       "2              0.000696       0.001069       0.001337  \n",
       "3              0.000658       0.001014       0.001607  \n",
       "4              0.000648       0.001037       0.001884  \n",
       "5              0.001053       0.001104       0.004222  \n",
       "6              0.000938       0.002768       0.001421  \n",
       "7              0.000849       0.001168       0.001577  \n",
       "8              0.003129       0.000882       0.001380  \n",
       "9              0.001757       0.000783       0.001282  \n",
       "10             0.000886       0.000692       0.001272  \n",
       "11             0.000897       0.000914       0.001098  "
      ]
     },
     "execution_count": 18,
     "metadata": {},
     "output_type": "execute_result"
    }
   ],
   "source": [
    "df.rename(columns={col: col.replace(\"img_prepare_\", \"\") for col in df.columns}, inplace=True)\n",
    "df"
   ]
  },
  {
   "cell_type": "code",
   "execution_count": 19,
   "metadata": {},
   "outputs": [
    {
     "data": {
      "text/html": [
       "<div>\n",
       "<style scoped>\n",
       "    .dataframe tbody tr th:only-of-type {\n",
       "        vertical-align: middle;\n",
       "    }\n",
       "\n",
       "    .dataframe tbody tr th {\n",
       "        vertical-align: top;\n",
       "    }\n",
       "\n",
       "    .dataframe thead th {\n",
       "        text-align: right;\n",
       "    }\n",
       "</style>\n",
       "<table border=\"1\" class=\"dataframe\">\n",
       "  <thead>\n",
       "    <tr style=\"text-align: right;\">\n",
       "      <th></th>\n",
       "      <th>cv2_ex_float32</th>\n",
       "      <th>cv2_float32</th>\n",
       "      <th>cv2_ex_None(float64)</th>\n",
       "      <th>cv2_float16</th>\n",
       "      <th>cv2_ex_float16</th>\n",
       "      <th>tf_float32</th>\n",
       "      <th>tf_ex_float32</th>\n",
       "      <th>tf_ex_None(float64)</th>\n",
       "      <th>tf_ex_float16</th>\n",
       "      <th>tf_float16</th>\n",
       "      <th>tf_None(float64)</th>\n",
       "      <th>cv2_None(float64)</th>\n",
       "    </tr>\n",
       "  </thead>\n",
       "  <tbody>\n",
       "    <tr>\n",
       "      <th>mean</th>\n",
       "      <td>0.000184</td>\n",
       "      <td>0.000208</td>\n",
       "      <td>0.000295</td>\n",
       "      <td>0.00034</td>\n",
       "      <td>0.000774</td>\n",
       "      <td>0.001402</td>\n",
       "      <td>0.001419</td>\n",
       "      <td>0.001485</td>\n",
       "      <td>0.001829</td>\n",
       "      <td>0.002264</td>\n",
       "      <td>0.002443</td>\n",
       "      <td>0.003019</td>\n",
       "    </tr>\n",
       "  </tbody>\n",
       "</table>\n",
       "</div>"
      ],
      "text/plain": [
       "      cv2_ex_float32  cv2_float32  cv2_ex_None(float64)  cv2_float16  \\\n",
       "mean        0.000184     0.000208              0.000295      0.00034   \n",
       "\n",
       "      cv2_ex_float16  tf_float32  tf_ex_float32  tf_ex_None(float64)  \\\n",
       "mean        0.000774    0.001402       0.001419             0.001485   \n",
       "\n",
       "      tf_ex_float16  tf_float16  tf_None(float64)  cv2_None(float64)  \n",
       "mean       0.001829    0.002264          0.002443           0.003019  "
      ]
     },
     "execution_count": 19,
     "metadata": {},
     "output_type": "execute_result"
    }
   ],
   "source": [
    "df.mean().sort_values(ascending=True).round(6).to_frame(\"mean\").T"
   ]
  },
  {
   "cell_type": "markdown",
   "metadata": {},
   "source": [
    "### Plot the test results"
   ]
  },
  {
   "cell_type": "code",
   "execution_count": 20,
   "metadata": {},
   "outputs": [
    {
     "data": {
      "text/html": [
       "<div>\n",
       "<style scoped>\n",
       "    .dataframe tbody tr th:only-of-type {\n",
       "        vertical-align: middle;\n",
       "    }\n",
       "\n",
       "    .dataframe tbody tr th {\n",
       "        vertical-align: top;\n",
       "    }\n",
       "\n",
       "    .dataframe thead th {\n",
       "        text-align: right;\n",
       "    }\n",
       "</style>\n",
       "<table border=\"1\" class=\"dataframe\">\n",
       "  <thead>\n",
       "    <tr style=\"text-align: right;\">\n",
       "      <th></th>\n",
       "      <th>num</th>\n",
       "      <th>preparation</th>\n",
       "      <th>time</th>\n",
       "      <th>resizer</th>\n",
       "      <th>type</th>\n",
       "      <th>expand_dims</th>\n",
       "    </tr>\n",
       "  </thead>\n",
       "  <tbody>\n",
       "    <tr>\n",
       "      <th>10</th>\n",
       "      <td>10</td>\n",
       "      <td>cv2_None(float64)</td>\n",
       "      <td>0.000102</td>\n",
       "      <td>cv2</td>\n",
       "      <td>None(float64)</td>\n",
       "      <td>False</td>\n",
       "    </tr>\n",
       "    <tr>\n",
       "      <th>11</th>\n",
       "      <td>11</td>\n",
       "      <td>cv2_None(float64)</td>\n",
       "      <td>0.000102</td>\n",
       "      <td>cv2</td>\n",
       "      <td>None(float64)</td>\n",
       "      <td>False</td>\n",
       "    </tr>\n",
       "    <tr>\n",
       "      <th>12</th>\n",
       "      <td>0</td>\n",
       "      <td>cv2_float32</td>\n",
       "      <td>0.000173</td>\n",
       "      <td>cv2</td>\n",
       "      <td>float32</td>\n",
       "      <td>False</td>\n",
       "    </tr>\n",
       "    <tr>\n",
       "      <th>13</th>\n",
       "      <td>1</td>\n",
       "      <td>cv2_float32</td>\n",
       "      <td>0.000165</td>\n",
       "      <td>cv2</td>\n",
       "      <td>float32</td>\n",
       "      <td>False</td>\n",
       "    </tr>\n",
       "  </tbody>\n",
       "</table>\n",
       "</div>"
      ],
      "text/plain": [
       "    num        preparation      time resizer           type  expand_dims\n",
       "10   10  cv2_None(float64)  0.000102     cv2  None(float64)        False\n",
       "11   11  cv2_None(float64)  0.000102     cv2  None(float64)        False\n",
       "12    0        cv2_float32  0.000173     cv2        float32        False\n",
       "13    1        cv2_float32  0.000165     cv2        float32        False"
      ]
     },
     "execution_count": 20,
     "metadata": {},
     "output_type": "execute_result"
    }
   ],
   "source": [
    "# melt the df to the long formate to use with sns plot methods\n",
    "df_long = df.reset_index(names='num').melt(id_vars='num', var_name='preparation', value_name='time')\n",
    "df_long['resizer'] = df_long['preparation'].apply(lambda x: x.split('_')[0])\n",
    "df_long['type'] = df_long['preparation'].apply(lambda x: x.split('_')[-1])\n",
    "df_long['expand_dims'] = df_long['preparation'].apply(lambda x: 'ex' in x)\n",
    "df_long[10:14]"
   ]
  },
  {
   "cell_type": "code",
   "execution_count": 21,
   "metadata": {},
   "outputs": [],
   "source": [
    "def save_plot(file_name: Path):\n",
    "    plt.savefig(file_name)\n",
    "    # plt.show()\n",
    "    plt.close()\n",
    "    print(f\"Plot saved to {file_name.resolve()}\") "
   ]
  },
  {
   "cell_type": "code",
   "execution_count": 22,
   "metadata": {},
   "outputs": [
    {
     "name": "stdout",
     "output_type": "stream",
     "text": [
      "Plot saved to C:\\Users\\alena\\AI\\emotions-detector\\results\\timings_img_prepare_cv2_vs_tf.png\n",
      "Plot saved to C:\\Users\\alena\\AI\\emotions-detector\\results\\timings_img_prepare_cv2_vs_tf_one_plot.png\n",
      "Plot saved to C:\\Users\\alena\\AI\\emotions-detector\\results\\timings_img_prepare_compare_types.png\n",
      "Plot saved to C:\\Users\\alena\\AI\\emotions-detector\\results\\timings_img_prepare_compare_types_expand_dims.png\n"
     ]
    }
   ],
   "source": [
    "data_to_plot = df_long[df_long['num'] > 0].copy() # the first try is usualy the longest one for every preparation, so we skip it to have more fair comparison\n",
    "plot = sns.relplot(data=data_to_plot, x='num', y='time', hue='preparation', col='resizer', kind='line', col_wrap=2, height=4)\n",
    "save_plot(PATHS['res_dir'] / 'timings_img_prepare_cv2_vs_tf.png')\n",
    "\n",
    "sns.lineplot(data=data_to_plot, x='num', y='time', hue='resizer')\n",
    "plt.title('Image preparation time for different methods(agregate by resizers)')\n",
    "save_plot(PATHS['res_dir'] / 'timings_img_prepare_cv2_vs_tf_one_plot.png')\n",
    "\n",
    "sns.relplot(data=data_to_plot, x='num', y='time', hue='resizer', col='type', kind='line', col_wrap=3, height=4)\n",
    "save_plot(PATHS['res_dir'] / 'timings_img_prepare_compare_types.png')\n",
    "\n",
    "sns.relplot(data=data_to_plot, x='num', y='time', hue='resizer', col='type', row='expand_dims', kind='line', height=4, facet_kws=dict(margin_titles=True))\n",
    "save_plot(PATHS['res_dir'] / 'timings_img_prepare_compare_types_expand_dims.png')"
   ]
  },
  {
   "cell_type": "code",
   "execution_count": 23,
   "metadata": {},
   "outputs": [
    {
     "name": "stdout",
     "output_type": "stream",
     "text": [
      "Plot saved to C:\\Users\\alena\\AI\\emotions-detector\\results\\timings_img_prepare_cv2_3kind.png\n",
      "Plot saved to C:\\Users\\alena\\AI\\emotions-detector\\results\\timings_img_prepare_cv2_type_line.png\n",
      "Plot saved to C:\\Users\\alena\\AI\\emotions-detector\\results\\timings_img_prepare_cv2_expand_dims_line.png\n"
     ]
    }
   ],
   "source": [
    "data_to_plot_cv2 = data_to_plot[(data_to_plot['resizer']=='cv2')].copy()\n",
    "fig, axs = plt.subplots(1, 3, figsize=(16, 5), sharey=True, gridspec_kw={'wspace': 0}, )\n",
    "sns.lineplot(data=data_to_plot_cv2, x='num', y='time', hue='type', style='expand_dims', ax=axs[0])\n",
    "sns.lineplot(data=data_to_plot_cv2, x='num', y='time', hue='expand_dims', ax=axs[1])\n",
    "sns.lineplot(data=data_to_plot_cv2, x='num', y='time', hue='type', ax=axs[2])\n",
    "save_plot(PATHS['res_dir'] / 'timings_img_prepare_cv2_3kind.png')\n",
    "\n",
    "sns.relplot(data=data_to_plot_cv2, x='num', y='time', hue='type', col='expand_dims', kind='line', height=4)\n",
    "save_plot(PATHS['res_dir'] / 'timings_img_prepare_cv2_type_line.png')\n",
    "\n",
    "sns.relplot(data=data_to_plot_cv2, x='num', y='time', hue='expand_dims', col='type', kind='line', height=4)\n",
    "save_plot(PATHS['res_dir'] / 'timings_img_prepare_cv2_expand_dims_line.png')\n"
   ]
  },
  {
   "cell_type": "markdown",
   "metadata": {},
   "source": [
    "Save combined image of all plots"
   ]
  },
  {
   "cell_type": "code",
   "execution_count": 24,
   "metadata": {},
   "outputs": [
    {
     "name": "stdout",
     "output_type": "stream",
     "text": [
      "Plots comparing preparation timings saved to C:\\Users\\alena\\AI\\emotions-detector\\results\\timings_img_prepare_compare.png\n"
     ]
    }
   ],
   "source": [
    "files = sorted(\n",
    "    [f for f in PATHS['res_dir'].glob('timings_img_prepare_*_*.png')],\n",
    "    key=lambda f: f.stat().st_mtime,\n",
    "    reverse=False  # from oldest to newest\n",
    ")\n",
    "imgs = [Image.open(img) for img in files]\n",
    "\n",
    "# get plots' sizes\n",
    "widths, heights = zip(*(img.size for img in imgs))\n",
    "total_height = sum(heights)\n",
    "max_width = max(widths)\n",
    "\n",
    "combined_img = Image.new(\"RGB\", (max_width, total_height), color=(255, 255, 255)) # white background\n",
    "\n",
    "# Paste each image into the combined image one under another\n",
    "y_offset = 0\n",
    "for img in imgs:\n",
    "    combined_img.paste(img, (0, y_offset))\n",
    "    y_offset += img.size[1]\n",
    "\n",
    "file_name = PATHS['res_dir'] / \"timings_img_prepare_compare.png\"\n",
    "combined_img.save(file_name)\n",
    "print(f\"Plots comparing preparation timings saved to {file_name.resolve()}\")"
   ]
  },
  {
   "cell_type": "markdown",
   "metadata": {},
   "source": [
    "### Chosen prepare function\n",
    "I will use img_prepare_cv2 with type <class 'numpy.float32'> to prepare the images. Rewrite it to use with float32 only. "
   ]
  },
  {
   "cell_type": "code",
   "execution_count": 25,
   "metadata": {},
   "outputs": [],
   "source": [
    "img_prepare_local = lambda img: img_prepare(img, img_shape=img_shape, flt_type=np.float32)"
   ]
  },
  {
   "cell_type": "code",
   "execution_count": 26,
   "metadata": {},
   "outputs": [],
   "source": [
    "timings = test_img_prepare(faces, img_prepare_local)"
   ]
  },
  {
   "cell_type": "code",
   "execution_count": 27,
   "metadata": {},
   "outputs": [
    {
     "data": {
      "text/html": [
       "<div>\n",
       "<style scoped>\n",
       "    .dataframe tbody tr th:only-of-type {\n",
       "        vertical-align: middle;\n",
       "    }\n",
       "\n",
       "    .dataframe tbody tr th {\n",
       "        vertical-align: top;\n",
       "    }\n",
       "\n",
       "    .dataframe thead th {\n",
       "        text-align: right;\n",
       "    }\n",
       "</style>\n",
       "<table border=\"1\" class=\"dataframe\">\n",
       "  <thead>\n",
       "    <tr style=\"text-align: right;\">\n",
       "      <th></th>\n",
       "      <th>preparation</th>\n",
       "      <th>num</th>\n",
       "      <th>time</th>\n",
       "    </tr>\n",
       "  </thead>\n",
       "  <tbody>\n",
       "    <tr>\n",
       "      <th>10</th>\n",
       "      <td>simple func</td>\n",
       "      <td>10</td>\n",
       "      <td>0.000130</td>\n",
       "    </tr>\n",
       "    <tr>\n",
       "      <th>11</th>\n",
       "      <td>simple func</td>\n",
       "      <td>11</td>\n",
       "      <td>0.000210</td>\n",
       "    </tr>\n",
       "    <tr>\n",
       "      <th>12</th>\n",
       "      <td>cv2_float32</td>\n",
       "      <td>0</td>\n",
       "      <td>0.000173</td>\n",
       "    </tr>\n",
       "    <tr>\n",
       "      <th>13</th>\n",
       "      <td>cv2_float32</td>\n",
       "      <td>1</td>\n",
       "      <td>0.000165</td>\n",
       "    </tr>\n",
       "  </tbody>\n",
       "</table>\n",
       "</div>"
      ],
      "text/plain": [
       "    preparation  num      time\n",
       "10  simple func   10  0.000130\n",
       "11  simple func   11  0.000210\n",
       "12  cv2_float32    0  0.000173\n",
       "13  cv2_float32    1  0.000165"
      ]
     },
     "execution_count": 27,
     "metadata": {},
     "output_type": "execute_result"
    }
   ],
   "source": [
    "df_to_plot = pd.concat([pd.Series(timings),\n",
    "                        df['cv2_float32']], keys=['simple func', 'cv2_float32'], axis=0, names=['preparation', 'num']).rename('time').reset_index()\n",
    "df_to_plot[10:14]"
   ]
  },
  {
   "cell_type": "code",
   "execution_count": 28,
   "metadata": {},
   "outputs": [
    {
     "data": {
      "image/png": "[encoded data removed]",
      "text/plain": [
       "<Figure size 640x480 with 1 Axes>"
      ]
     },
     "metadata": {},
     "output_type": "display_data"
    }
   ],
   "source": [
    "sns.lineplot(data=df_to_plot, x='num', y='time', hue='preparation')\n",
    "plt.show()"
   ]
  },
  {
   "cell_type": "code",
   "execution_count": 29,
   "metadata": {},
   "outputs": [
    {
     "data": {
      "image/png": "[encoded data removed]",
      "text/plain": [
       "<Figure size 650x450 with 12 Axes>"
      ]
     },
     "metadata": {},
     "output_type": "display_data"
    }
   ],
   "source": [
    "_ = print_imgs(list((img_prepare(face)[0] for face in faces)), \n",
    "           labels=(f'{face.shape}:{time_prp*1000: .2}ms' for face, time_prp in zip(faces, timings)), \n",
    "           cols=4, figsize=(6.5, 4.5), title=\"Prepared images with their initial size and time of preparation\", label_size=10)"
   ]
  },
  {
   "cell_type": "markdown",
   "metadata": {},
   "source": [
    "## Compare tf and tflite models"
   ]
  },
  {
   "cell_type": "code",
   "execution_count": 30,
   "metadata": {},
   "outputs": [],
   "source": [
    "# use predict functions with current parameters - model and interpreter, so that they depend on image only\n",
    "predict_img_tf_local = lambda img: predict_img_tf(img, model=model, img_shape=img_shape, flt_type=np.float32, img_prepare_fn=img_prepare)\n",
    "predict_img_tflite_local = lambda img: predict_img_tflite(img, interpreter=interpreter_lite_model,\n",
    "                                                          input_index=interpreter_input_details['index'], output_index=interpreter_output_details['index'],\n",
    "                                                          img_shape=img_shape, flt_type=np.float32, img_prepare_fn=img_prepare)"
   ]
  },
  {
   "cell_type": "markdown",
   "metadata": {},
   "source": [
    "### Prediction time"
   ]
  },
  {
   "cell_type": "code",
   "execution_count": 31,
   "metadata": {},
   "outputs": [
    {
     "data": {
      "text/html": [
       "<div>\n",
       "<style scoped>\n",
       "    .dataframe tbody tr th:only-of-type {\n",
       "        vertical-align: middle;\n",
       "    }\n",
       "\n",
       "    .dataframe tbody tr th {\n",
       "        vertical-align: top;\n",
       "    }\n",
       "\n",
       "    .dataframe thead th {\n",
       "        text-align: right;\n",
       "    }\n",
       "</style>\n",
       "<table border=\"1\" class=\"dataframe\">\n",
       "  <thead>\n",
       "    <tr style=\"text-align: right;\">\n",
       "      <th></th>\n",
       "      <th>tflite</th>\n",
       "      <th>tf</th>\n",
       "    </tr>\n",
       "  </thead>\n",
       "  <tbody>\n",
       "    <tr>\n",
       "      <th>mean</th>\n",
       "      <td>0.047835</td>\n",
       "      <td>0.75312</td>\n",
       "    </tr>\n",
       "  </tbody>\n",
       "</table>\n",
       "</div>"
      ],
      "text/plain": [
       "        tflite       tf\n",
       "mean  0.047835  0.75312"
      ]
     },
     "execution_count": 31,
     "metadata": {},
     "output_type": "execute_result"
    }
   ],
   "source": [
    "timing = test_img_prepare(faces, predict_img_tf_local)\n",
    "timing_lite = test_img_prepare(faces, predict_img_tflite_local)\n",
    "df_timing = pd.DataFrame({'tf': timing, 'tflite': timing_lite}, index=range(len(timing)))\n",
    "df_timing.mean().sort_values(ascending=True).round(6).to_frame(\"mean\").T"
   ]
  },
  {
   "cell_type": "code",
   "execution_count": 32,
   "metadata": {},
   "outputs": [
    {
     "data": {
      "image/png": "[encoded data removed]",
      "text/plain": [
       "<Figure size 1000x500 with 1 Axes>"
      ]
     },
     "metadata": {},
     "output_type": "display_data"
    }
   ],
   "source": [
    "df_timing.rename_axis('models', inplace=True, axis=1)\n",
    "df_timing.plot(kind='bar', figsize=(10, 5), title='Average time for image preparation and prediction', xlabel='images', ylabel='time', label='time', )\n",
    "plt.show()"
   ]
  },
  {
   "cell_type": "markdown",
   "metadata": {},
   "source": [
    "### Metrics"
   ]
  },
  {
   "cell_type": "code",
   "execution_count": 33,
   "metadata": {},
   "outputs": [
    {
     "name": "stdout",
     "output_type": "stream",
     "text": [
      "tf model\n",
      "\u001b[1m32/32\u001b[0m \u001b[32m━━━━━━━━━━━━━━━━━━━━\u001b[0m\u001b[37m\u001b[0m \u001b[1m16s\u001b[0m 255ms/step - accuracy: 0.5493 - loss: 1.5938\n",
      "tflite model\n",
      "................................\n",
      "{'categorical_accuracy': np.float32(0.577), 'loss': np.float32(1.384829)}\n"
     ]
    }
   ],
   "source": [
    "print('tf model')\n",
    "eval_tf = model.evaluate(X_test, y_test_onehot, verbose=1, return_dict=True)\n",
    "print('tflite model')\n",
    "eval_tflite = evaluate_tflite_model(interpreter_lite_model, X_test, y_test_onehot, metrics=\"accuracy\", return_dict=True)"
   ]
  },
  {
   "cell_type": "code",
   "execution_count": 34,
   "metadata": {},
   "outputs": [
    {
     "data": {
      "text/html": [
       "<div>\n",
       "<style scoped>\n",
       "    .dataframe tbody tr th:only-of-type {\n",
       "        vertical-align: middle;\n",
       "    }\n",
       "\n",
       "    .dataframe tbody tr th {\n",
       "        vertical-align: top;\n",
       "    }\n",
       "\n",
       "    .dataframe thead th {\n",
       "        text-align: right;\n",
       "    }\n",
       "</style>\n",
       "<table border=\"1\" class=\"dataframe\">\n",
       "  <thead>\n",
       "    <tr style=\"text-align: right;\">\n",
       "      <th></th>\n",
       "      <th>accuracy</th>\n",
       "      <th>loss</th>\n",
       "    </tr>\n",
       "  </thead>\n",
       "  <tbody>\n",
       "    <tr>\n",
       "      <th>tf</th>\n",
       "      <td>0.575</td>\n",
       "      <td>1.574021</td>\n",
       "    </tr>\n",
       "    <tr>\n",
       "      <th>tf_lite</th>\n",
       "      <td>0.577</td>\n",
       "      <td>1.384829</td>\n",
       "    </tr>\n",
       "  </tbody>\n",
       "</table>\n",
       "</div>"
      ],
      "text/plain": [
       "         accuracy      loss\n",
       "tf          0.575  1.574021\n",
       "tf_lite     0.577  1.384829"
      ]
     },
     "execution_count": 34,
     "metadata": {},
     "output_type": "execute_result"
    }
   ],
   "source": [
    "df = pd.DataFrame([eval_tf, {k.split('_')[-1]:v for k,v in eval_tflite.items()}], index=['tf', 'tf_lite'])\n",
    "df"
   ]
  },
  {
   "cell_type": "code",
   "execution_count": null,
   "metadata": {},
   "outputs": [],
   "source": []
  }
 ],
 "metadata": {
  "kernelspec": {
   "display_name": ".venv",
   "language": "python",
   "name": "python3"
  },
  "language_info": {
   "codemirror_mode": {
    "name": "ipython",
    "version": 3
   },
   "file_extension": ".py",
   "mimetype": "text/x-python",
   "name": "python",
   "nbconvert_exporter": "python",
   "pygments_lexer": "ipython3",
   "version": "3.12.3"
  }
 },
 "nbformat": 4,
 "nbformat_minor": 2
}
